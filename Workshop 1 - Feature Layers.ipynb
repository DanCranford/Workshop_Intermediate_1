{
 "cells": [
  {
   "cell_type": "markdown",
   "metadata": {},
   "source": [
    "# The ArcGIS API - Working With ArcGIS Online Data\n",
    "\n",
    "The first thing we'll need to do is import the arcgis module."
   ]
  },
  {
   "cell_type": "code",
   "execution_count": null,
   "metadata": {},
   "outputs": [],
   "source": [
    "import arcgis"
   ]
  },
  {
   "cell_type": "markdown",
   "metadata": {},
   "source": [
    "After that, we'll create a \"GIS\" object.  This is how arcgis online tracks our user information and determines what we have access to\n",
    "\n",
    "https://developers.arcgis.com/python/api-reference/arcgis.gis.toc.html#arcgis.gis.GIS"
   ]
  },
  {
   "cell_type": "code",
   "execution_count": null,
   "metadata": {},
   "outputs": [],
   "source": [
    "# create an input for your username\n",
    "username = input(\"Username: \")\n",
    "\n",
    "# create a GIS object - it will automatically ask for your password if you don't enter one\n",
    "session_gis = arcgis.GIS('https://arcgis.com',username)"
   ]
  },
  {
   "cell_type": "markdown",
   "metadata": {},
   "source": [
    "Once we've created a GIS object to manage our login, let's find some data that's worth looking at.\n",
    "\n",
    "The current COVID cases by county should be pretty interesting.  After poking around ESRI's COVID Response page (https://coronavirus-resources.esri.com/), I found the following item that I've decided I want.\n",
    "\n",
    "There are a bunch of different ways to get an item.  Here's the easiest one I know of.\n",
    "\n",
    "https://developers.arcgis.com/python/api-reference/arcgis.gis.toc.html#item"
   ]
  },
  {
   "cell_type": "code",
   "execution_count": null,
   "metadata": {},
   "outputs": [],
   "source": [
    "item = arcgis.gis.Item(session_gis,'26266bbb8c1a4ab09be063c47357a1ac')\n",
    "item"
   ]
  },
  {
   "cell_type": "markdown",
   "metadata": {},
   "source": [
    "Now let's see how many layers this item has.\n",
    "\n"
   ]
  },
  {
   "cell_type": "code",
   "execution_count": null,
   "metadata": {},
   "outputs": [],
   "source": [
    "len(item.layers)"
   ]
  },
  {
   "cell_type": "code",
   "execution_count": null,
   "metadata": {},
   "outputs": [],
   "source": []
  }
 ],
 "metadata": {
  "kernelspec": {
   "display_name": "Python 3",
   "language": "python",
   "name": "python3"
  },
  "language_info": {
   "codemirror_mode": {
    "name": "ipython",
    "version": 3
   },
   "file_extension": ".py",
   "mimetype": "text/x-python",
   "name": "python",
   "nbconvert_exporter": "python",
   "pygments_lexer": "ipython3",
   "version": "3.6.9"
  }
 },
 "nbformat": 4,
 "nbformat_minor": 2
}
